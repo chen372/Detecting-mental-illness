{
 "cells": [
  {
   "cell_type": "markdown",
   "metadata": {},
   "source": [
    "# Prerequisites\n",
    "Before we start, make sure that you have the PyMongo distribution installed. In the Python shell, the following should run without raising an exception:"
   ]
  },
  {
   "cell_type": "code",
   "execution_count": 1,
   "metadata": {
    "collapsed": true
   },
   "outputs": [],
   "source": [
    "import pymongo\n",
    "import json\n",
    "import re"
   ]
  },
  {
   "cell_type": "markdown",
   "metadata": {},
   "source": [
    "This tutorial also assumes that a MongoDB instance is running on the default host and port. Assuming you have downloaded and installed MongoDB, you can start it like so:\n",
    "\n",
    "$ mongod"
   ]
  },
  {
   "cell_type": "markdown",
   "metadata": {},
   "source": [
    "# Making a Connection with MongoClient\n",
    "\n",
    "The first step when working with PyMongo is to create a MongoClient to the running mongod instance. Doing so is easy:"
   ]
  },
  {
   "cell_type": "code",
   "execution_count": 2,
   "metadata": {
    "collapsed": true
   },
   "outputs": [],
   "source": [
    "from pymongo import MongoClient\n",
    "client = MongoClient()"
   ]
  },
  {
   "cell_type": "markdown",
   "metadata": {},
   "source": [
    "The above code will connect on the default host and port. We can also specify the host and port explicitly, as follows:"
   ]
  },
  {
   "cell_type": "raw",
   "metadata": {},
   "source": [
    "client = MongoClient('localhost', 27017)"
   ]
  },
  {
   "cell_type": "markdown",
   "metadata": {},
   "source": [
    "Or use the MongoDB URI format:"
   ]
  },
  {
   "cell_type": "raw",
   "metadata": {},
   "source": [
    "client = MongoClient('mongodb://localhost:27017/')"
   ]
  },
  {
   "cell_type": "code",
   "execution_count": 3,
   "metadata": {
    "collapsed": true
   },
   "outputs": [],
   "source": [
    "db = client.tweet_database"
   ]
  },
  {
   "cell_type": "markdown",
   "metadata": {},
   "source": [
    "# Load json format files into database"
   ]
  },
  {
   "cell_type": "code",
   "execution_count": 19,
   "metadata": {
    "collapsed": false
   },
   "outputs": [
    {
     "name": "stderr",
     "output_type": "stream",
     "text": [
      "C:\\Users\\Bao\\Anaconda3\\lib\\site-packages\\ipykernel\\__main__.py:6: DeprecationWarning: insert is deprecated. Use insert_one or insert_many instead.\n"
     ]
    }
   ],
   "source": [
    "for i in range(900, 1100):\n",
    "    path = 'D:/Depression_project/data/tweets_'+str(i)+'.txt'\n",
    "    with open(path) as json_file: \n",
    "        for line in json_file:\n",
    "            item = json.loads(line)  # convert a string representation of dict to a dict\n",
    "            db.tweet_collection.insert(item)"
   ]
  },
  {
   "cell_type": "code",
   "execution_count": null,
   "metadata": {
    "collapsed": true
   },
   "outputs": [],
   "source": []
  },
  {
   "cell_type": "markdown",
   "metadata": {},
   "source": [
    "After the above procedures, documents are already stored in the database, and no need to load each time"
   ]
  },
  {
   "cell_type": "markdown",
   "metadata": {},
   "source": [
    "# Work on the document - start from here"
   ]
  },
  {
   "cell_type": "code",
   "execution_count": 20,
   "metadata": {
    "collapsed": false
   },
   "outputs": [
    {
     "name": "stdout",
     "output_type": "stream",
     "text": [
      "10992242\n"
     ]
    }
   ],
   "source": [
    "# check\n",
    "cursor = db.tweet_collection.find()\n",
    "print (db.tweet_collection.count())"
   ]
  },
  {
   "cell_type": "code",
   "execution_count": null,
   "metadata": {
    "collapsed": false,
    "scrolled": true
   },
   "outputs": [],
   "source": [
    "cursor = db.tweet_collection.find({'lang': 'en'})\n",
    "print (cursor.count())\n",
    "for doc in cursor[:2]:\n",
    "    print (doc['text'])"
   ]
  },
  {
   "cell_type": "code",
   "execution_count": 5,
   "metadata": {
    "collapsed": false
   },
   "outputs": [
    {
     "name": "stdout",
     "output_type": "stream",
     "text": [
      "81\n"
     ]
    }
   ],
   "source": [
    "cursor = db.tweet_collection.find( { '$and':[{\"text\": {'$regex': re.compile(r' depressed ', re.I)}}, {'lang': 'en'}] } ) \n",
    "print (cursor.count())"
   ]
  },
  {
   "cell_type": "code",
   "execution_count": 10,
   "metadata": {
    "collapsed": false
   },
   "outputs": [
    {
     "name": "stdout",
     "output_type": "stream",
     "text": [
      "9\n"
     ]
    }
   ],
   "source": [
    "cursor = db.tweet_collection.find( { '$and':[{\"text\": {'$regex': re.compile(r' bipolar ', re.I)}}, {'lang': 'en'}] } ) \n",
    "print (cursor.count())"
   ]
  },
  {
   "cell_type": "code",
   "execution_count": 6,
   "metadata": {
    "collapsed": false
   },
   "outputs": [
    {
     "name": "stdout",
     "output_type": "stream",
     "text": [
      "Now I’m even more depressed because the Palaye Royale show I was supposed to go to got fucking cancelled\n",
      "RT @Afterhoursfeel: @NBCNews Hey y'all look @NBCNews being the propaganda arm for the prison industrial complex. How depressed of a country…\n",
      "i reached that point when looking at dan and phil makes me depressed because i will never find anyone as perfect fo… https://t.co/wVMFsXvVms\n",
      "y’all are bout the most depressed ass people\n",
      "RT @DaddyTytee_: I was depressed for so long and nobody noticed\n",
      "so nice not feeling like a depressed piece of shit\n",
      "RT @AmariPrettyAss: depressed ain’t even the word .. https://t.co/uSdzmmjVHt\n",
      "RT @numbrealist: https://t.co/64oup0kMrM phd and masters students 6 times more likely to be depressed than others\n",
      "Dear friend, I know you are sad. Take care of yourself. I can not get close to you so you do not get depressed because of me...\n",
      "ps. Think I’m depressed again and this time I can’t blame it one the birth control. 🤷🏼‍♀️\n",
      "@melvam14 Depressed ass😁\n",
      "I think parents should sue #Microsoft because they make everybody cynical and borderline depressed and having PTSD. \n",
      "#Leafyishere\n",
      "RT @FunnyQuotees: when your life is aimless and you have no passion or big ambitions and ur depressed af but still tryna act chill and go w…\n",
      "RT @GrandShitpost: me getting depressed about some stupid shit i did like 10 years ago with my brain trying to tell me to cheer up and go t…\n",
      "RT @Carmenmzmz: the \"win\" thing is hitting me right in the feels bc Cas was so depressed in s12 and he said to Dean \"i just keep failing [.…\n",
      "In all my classes the blinds are closed, so I'm depressed thinking it's dark and cloudy until I realize it's sunny and 50\n",
      "@kathyxprez Bitch I’m depressed af lol\n",
      "@meanbelle @osamaholic sad depressed EDM which gives some positive vibes sometime but this bitch don't know that I produce music too.\n",
      "RT @DaddyTytee_: I was depressed for so long and nobody noticed\n",
      "She isn’t my friend anymore I get depressed and make myself sick not physically sick and I start to get certain tho… https://t.co/xEuPGzexhJ\n",
      "@MILLICENT_2 hi good evening Lesego how was your day I'm depressed my number is 0604105335 please give me call\n",
      "RT @blacksmoke1033: Some of us Depressed Folk treat basic happiness like it's some rarely unobtainable drug, so next time you see someone g…\n",
      "It is always my fault, my words, actions, and decision always a mistake wla na kong ginawa tama im so depressed help po papa jesus pls\n",
      "@KEEMSTAR Is the caption \"What do the clinically depressed do?\"\n",
      "am i a magical girl without realising it b/c im so depressed wtf life\n",
      "RT @KonnahDOT: when you're so depressed that you have to draw klance to feel better 🙏 https://t.co/8rJRypKFvQ\n",
      "@PauletteParis1 @realDonaldTrump I hear she still has the dress\n",
      "I think Spanky is a little depressed today\n",
      "im so happy that it's almost my senior year, but aging out for cheer makes me sooo depressed because that's been my… https://t.co/6blNSYaDH4\n",
      "RT @sighloh: i say i hate school but i know my sorry ass was so depressed last year not having shit to do. those were the days.\n",
      "ohmygod can people stop saying they're depressed even though they're sad or upset. NEWSFLASH KATIE. DEPRESSION ISN'… https://t.co/5mhXLZ96x4\n",
      "RT @Fact: People who regularly help others are significantly happier and less likely to become depressed as they get older.\n",
      "RT @DaddyTytee_: I was depressed for so long and nobody noticed\n",
      "See when I’m feeling down or depressed I just come on twitter and sit and cry with laughter at how much banter flie… https://t.co/0EBib3E3W2\n",
      "RT @Fact: People who regularly help others are significantly happier and less likely to become depressed as they get older.\n",
      "When I’m depressed it’s hard for me to keep up on social media\n",
      "Stan twitter marking me depressed again ! Adios!\n",
      "https://t.co/00gODzrST3  Depressed and Suicidal Mother and 5 Children Missing in Florida\n",
      "Can i be honest? For the first time in my life im not depressed or atleast not as much as usual. I dont really get… https://t.co/tMB11UsVMr\n",
      "i have a type in characters\n",
      "they have to be a cyborg or be completely robotic, have to be depressed or have ptsd bc… https://t.co/BxTW6khW9z\n",
      "It can be pretty easy to get depressed while in outpatient infusion (especially when you’re 70 years younger than e… https://t.co/AhIrvJVhHt\n",
      "@CryptoGat Yea I’m having that same problem.. I left it in tho otherwise I get depressed with how little my portfolio is worth\n",
      "ya im depressed but at least im not short\n",
      "I look mad depressed when I’m alone for too long cause I love to space out and think about all my mistakes\n",
      "lol I’m so depressed and I haven’t even left yet 💔\n",
      "RT @tiny_spice: Being depressed has really caused me to become super low maintenance with my appearance. I literally get outta bed wash my…\n",
      "RT @joboisa: Trying to be the encouraging depressed partner in a partnership of depressed-and-other-things people is very difficult when yo…\n",
      "I looked at my license and my height and weight haven’t been updated in almost 4 years. Now I’m just depressed abou… https://t.co/Yuw7TYCBvH\n",
      "If you fall asleep crying next to your dog enough times, they become depressed too😕\n",
      "RT @Scorpio_Quotess: #Scorpio's are often depressed and lonely because they shut people out or invest so much in relationships and get noth…\n",
      "You know that feeling where you feel depressed but it's not depression? Yeah. I'm there and I don't know how I got here.\n",
      "RT @grotesquefreak: no offense but people who told me everything happens for a reason when i was severely depressed made me want to change…\n",
      "@ragon33 I am so sorry you are dealing with this. I have some friends who are also depressed and ignore my tries to… https://t.co/nCYBfPQLNB\n",
      "RT @sadqueer4life: them: be honest with me-\n",
      "\n",
      "me: ok so i’m depressed bc i feel like i’m not doing enough and if i’m not doing enough i don’…\n",
      "“My vagina is depressed now”\n",
      "RT @grotesquefreak: no offense but people who told me everything happens for a reason when i was severely depressed made me want to change…\n",
      "RT @OpTicMBoZe: Thank you finally look at WW2 I instantly get depressed playing it’s all dark https://t.co/zoVHFKb541\n",
      "“If you wanna get depressed get in the car with skye on a Monday after school” https://t.co/NbNVkga76B\n",
      "RT @ReptilianHybrid: Friend: I’m depressed \n",
      "\n",
      "Me: damn that sux lol at least ur not me I am more depressed and more anxious\n",
      "I’m actually pretty depressed but this picture is really fucking funny LOL https://t.co/bjaeN1UWW5\n",
      "RT @spontanneous_: Yooo school makes me real live depressed son. I’m not even trying to be dramatic.\n",
      "RT @ReptilianHybrid: Friend: I’m depressed \n",
      "\n",
      "Me: damn that sux lol at least ur not me I am more depressed and more anxious\n",
      "RT @sadqueer4life: them: be honest with me-\n",
      "\n",
      "me: ok so i’m depressed bc i feel like i’m not doing enough and if i’m not doing enough i don’…\n",
      "@Duque10Jennifer 😯 What is there to be depressed about?\n",
      "RT @OpTicMBoZe: Thank you finally look at WW2 I instantly get depressed playing it’s all dark https://t.co/zoVHFKb541\n",
      "I'm what the kids call Severely Depressed and Barely Coping\n",
      "RT @TropicoForever: This is weird to say but I’m glad I got depressed because if I hadn’t I probably wouldn’t have found and fallen in love…\n",
      "ok. I know this sounds crazy, but bear with me. I think I'm depressed because I forgot to take my antidepressants.\n",
      "I swear I get sooo depressed whenever my man has to leave\n",
      "I swear I get sooo depressed whenever my man has to leave\n",
      "RT @TropicoForever: This is weird to say but I’m glad I got depressed because if I hadn’t I probably wouldn’t have found and fallen in love…\n",
      "RT @TevinnJames: Y’all ever feel depressed but don’t know why ?\n",
      "RT @BOlson63475131: @1776Stonewall @mitchellvii @AnnCoulter Ann Coulter must be chronically clinically depressed all the time. I am really…\n",
      "I’m depressed now because I could’ve seen my old man if if wasn’t a HEADASS\n",
      "RT @MasalaBai: “We haven’t got a good night’s sleep in days. All of us are tired. I can’t tell you how depressed I feel.\" - JNUSU president…\n",
      "I’m too depressed to go on ; you’ll be sorry when I’m gone”\n",
      "RT @Edward_MNL: @cnni if someone depressed walking near that building and see that, it might actually encourage rather than raise awareness.\n",
      "RT @blacksmoke1033: Some of us Depressed Folk treat basic happiness like it's some rarely unobtainable drug, so next time you see someone g…\n",
      "RT @Kapenzee: Or leave you depressed 🙄 https://t.co/Nh24fjBOmH\n",
      "RT @kaylatredway__: y’all remember when twitter used to be fun and now it’s just a bunch of miserable and depressed bitches lmao\n",
      "RT @sadqueer4life: them: be honest with me-\n",
      "\n",
      "me: ok so i’m depressed bc i feel like i’m not doing enough and if i’m not doing enough i don’…\n",
      "Hate people who exaggerate and say they're depressed when they're just feeling a bit down, an insult to people who actually suffer from it.\n"
     ]
    }
   ],
   "source": [
    "for doc in cursor:\n",
    "    print (doc['text'])"
   ]
  },
  {
   "cell_type": "code",
   "execution_count": null,
   "metadata": {
    "collapsed": true
   },
   "outputs": [],
   "source": []
  },
  {
   "cell_type": "code",
   "execution_count": null,
   "metadata": {
    "collapsed": true
   },
   "outputs": [],
   "source": []
  },
  {
   "cell_type": "code",
   "execution_count": null,
   "metadata": {
    "collapsed": true
   },
   "outputs": [],
   "source": []
  },
  {
   "cell_type": "code",
   "execution_count": null,
   "metadata": {
    "collapsed": true
   },
   "outputs": [],
   "source": []
  },
  {
   "cell_type": "code",
   "execution_count": null,
   "metadata": {
    "collapsed": true
   },
   "outputs": [],
   "source": []
  },
  {
   "cell_type": "code",
   "execution_count": null,
   "metadata": {
    "collapsed": true
   },
   "outputs": [],
   "source": []
  },
  {
   "cell_type": "code",
   "execution_count": null,
   "metadata": {
    "collapsed": true
   },
   "outputs": [],
   "source": []
  },
  {
   "cell_type": "code",
   "execution_count": null,
   "metadata": {
    "collapsed": true
   },
   "outputs": [],
   "source": []
  },
  {
   "cell_type": "markdown",
   "metadata": {},
   "source": [
    "# Writing JSON Format to a (Text) File"
   ]
  },
  {
   "cell_type": "raw",
   "metadata": {
    "collapsed": true
   },
   "source": [
    "import json\n",
    "\n",
    "data = {}  \n",
    "data['people'] = []  \n",
    "data['people'].append({  \n",
    "    'name': 'Scott',\n",
    "    'website': 'stackabuse.com',\n",
    "    'from': 'Nebraska'\n",
    "})\n",
    "data['people'].append({  \n",
    "    'name': 'Larry',\n",
    "    'website': 'google.com',\n",
    "    'from': 'Michigan'\n",
    "})\n",
    "data['people'].append({  \n",
    "    'name': 'Tim',\n",
    "    'website': 'apple.com',\n",
    "    'from': 'Alabama'\n",
    "})\n",
    "\n",
    "with open('data.txt', 'w') as outfile:  \n",
    "    json.dump(data, outfile)"
   ]
  },
  {
   "cell_type": "markdown",
   "metadata": {},
   "source": [
    "# Reading JSON Format from a File"
   ]
  },
  {
   "cell_type": "raw",
   "metadata": {
    "collapsed": false
   },
   "source": [
    "with open('data.txt') as json_file:  \n",
    "    data = json.load(json_file)\n",
    "    for p in data['people']:\n",
    "        print('Name: ' + p['name'])\n",
    "        print('Website: ' + p['website'])\n",
    "        print('From: ' + p['from'])\n",
    "        print('')"
   ]
  },
  {
   "cell_type": "markdown",
   "metadata": {},
   "source": [
    "# Loop over file and save it as json file"
   ]
  },
  {
   "cell_type": "code",
   "execution_count": 19,
   "metadata": {
    "collapsed": false
   },
   "outputs": [],
   "source": [
    "data = {}\n",
    "data['tweets'] = []\n",
    "with open('tweets_1.txt') as json_file: \n",
    "    for line in json_file:\n",
    "        line_new = json.loads(line)  # convert a string representation of dict to a dict\n",
    "        data['tweets'].append(line_new)\n",
    "        \n",
    "with open('tweets1.json', 'w') as outfile:  \n",
    "    json.dump(data, outfile)"
   ]
  },
  {
   "cell_type": "markdown",
   "metadata": {},
   "source": [
    "# Getting a Database\n",
    "\n",
    "A single instance of MongoDB can support multiple independent databases. When working with PyMongo you access databases using attribute style access on MongoClient instances:"
   ]
  },
  {
   "cell_type": "code",
   "execution_count": 7,
   "metadata": {
    "collapsed": true
   },
   "outputs": [],
   "source": [
    "db = client.tweet_database\n",
    "#db = client['test-database']  # if the above does not work, use this one"
   ]
  },
  {
   "cell_type": "code",
   "execution_count": 21,
   "metadata": {
    "collapsed": false
   },
   "outputs": [],
   "source": [
    "#tweets_2 = db.tweet_collection\n",
    "\n",
    "page = open('tweets1.json', 'r')\n",
    "parsed = json.loads(page.read())"
   ]
  },
  {
   "cell_type": "code",
   "execution_count": 22,
   "metadata": {
    "collapsed": false
   },
   "outputs": [
    {
     "name": "stderr",
     "output_type": "stream",
     "text": [
      "C:\\Users\\Bao\\Anaconda3\\lib\\site-packages\\ipykernel\\__main__.py:2: DeprecationWarning: insert is deprecated. Use insert_one or insert_many instead.\n",
      "  from ipykernel import kernelapp as app\n"
     ]
    }
   ],
   "source": [
    "for item in parsed[\"tweets\"]:\n",
    "    db.tweet_collection.insert(item)"
   ]
  },
  {
   "cell_type": "code",
   "execution_count": 23,
   "metadata": {
    "collapsed": false
   },
   "outputs": [
    {
     "name": "stdout",
     "output_type": "stream",
     "text": [
      "{'_id': ObjectId('5ab93ca3e1b31a0500dce79a'), 'delete': {'status': {'user_id': 1119417500, 'id_str': '688997177239011329', 'id': 688997177239011329, 'user_id_str': '1119417500'}, 'timestamp_ms': '1522076900582'}}\n",
      "{'in_reply_to_screen_name': None, 'favorited': False, 'id': 978287543203647488, 'in_reply_to_status_id_str': None, 'truncated': False, 'source': '<a href=\"http://twitter.com/download/iphone\" rel=\"nofollow\">Twitter for iPhone</a>', 'favorite_count': 0, 'text': \"i can't believe we got 4 (FOUR) teasers today\", 'timestamp_ms': '1522076900660', 'retweet_count': 0, 'lang': 'en', 'in_reply_to_user_id': None, 'reply_count': 0, 'is_quote_status': False, 'place': None, '_id': ObjectId('5ab93ca3e1b31a0500dce79b'), 'in_reply_to_user_id_str': None, 'geo': None, 'user': {'geo_enabled': False, 'profile_background_image_url': 'http://abs.twimg.com/images/themes/theme1/bg.png', 'id': 727189578243788800, 'name': '𝒃𝒓𝒊𝒄𝒆 #WhatisLove?', 'protected': False, 'profile_image_url_https': 'https://pbs.twimg.com/profile_images/976867303156604930/lpe5gGKI_normal.jpg', 'is_translator': False, 'listed_count': 0, 'created_at': 'Mon May 02 17:34:40 +0000 2016', 'notifications': None, 'profile_image_url': 'http://pbs.twimg.com/profile_images/976867303156604930/lpe5gGKI_normal.jpg', 'lang': 'fr', 'profile_sidebar_fill_color': '000000', 'profile_background_color': '000000', 'time_zone': 'Pacific Time (US & Canada)', 'favourites_count': 888, 'friends_count': 61, 'profile_link_color': '000000', 'profile_sidebar_border_color': '000000', 'profile_background_image_url_https': 'https://abs.twimg.com/images/themes/theme1/bg.png', 'profile_use_background_image': False, 'followers_count': 340, 'location': '이달의소녀 엔시티 에프엑스 구구단', 'description': 'TWICE TWICE TWICE TWICE TWICE TWICE TWICE TWICE TWICE TWICE TWICE TWICE', 'profile_text_color': '000000', 'verified': False, 'following': None, 'statuses_count': 3848, 'default_profile_image': False, 'utc_offset': -25200, 'id_str': '727189578243788800', 'screen_name': 'ROYALTWlCE', 'default_profile': False, 'translator_type': 'none', 'follow_request_sent': None, 'url': None, 'profile_background_tile': False, 'contributors_enabled': False}, 'created_at': 'Mon Mar 26 15:08:20 +0000 2018', 'in_reply_to_status_id': None, 'entities': {'user_mentions': [], 'symbols': [], 'urls': [], 'hashtags': []}, 'id_str': '978287543203647488', 'contributors': None, 'quote_count': 0, 'coordinates': None, 'filter_level': 'low', 'retweeted': False}\n"
     ]
    }
   ],
   "source": [
    "# find the document in a collection\n",
    "cursor = db.tweet_collection.find()\n",
    "for doc in cursor[:2]:\n",
    "    print (doc)"
   ]
  },
  {
   "cell_type": "code",
   "execution_count": 34,
   "metadata": {
    "collapsed": false
   },
   "outputs": [
    {
     "name": "stdout",
     "output_type": "stream",
     "text": [
      "2296\n",
      "i can't believe we got 4 (FOUR) teasers today\n",
      "Someone just rang my doorbell twice and knocked and it’s 8am. #whythough\n"
     ]
    }
   ],
   "source": [
    "cursor = db.tweet_collection.find({'lang': 'en'})\n",
    "print (cursor.count())\n",
    "for doc in cursor[:2]:\n",
    "    print (doc['text'])"
   ]
  },
  {
   "cell_type": "markdown",
   "metadata": {
    "collapsed": true
   },
   "source": [
    "# Delete documents or drop a collection"
   ]
  },
  {
   "cell_type": "code",
   "execution_count": 6,
   "metadata": {
    "collapsed": true
   },
   "outputs": [],
   "source": [
    "# delect all documents in a collection\n",
    "db.tweet_collection.delete_many({})\n",
    "\n",
    "# drop a collection\n",
    "db.tweet_collection.drop()"
   ]
  },
  {
   "cell_type": "code",
   "execution_count": null,
   "metadata": {
    "collapsed": true
   },
   "outputs": [],
   "source": []
  },
  {
   "cell_type": "code",
   "execution_count": null,
   "metadata": {
    "collapsed": true
   },
   "outputs": [],
   "source": []
  },
  {
   "cell_type": "code",
   "execution_count": null,
   "metadata": {
    "collapsed": true
   },
   "outputs": [],
   "source": []
  },
  {
   "cell_type": "code",
   "execution_count": null,
   "metadata": {
    "collapsed": true
   },
   "outputs": [],
   "source": []
  },
  {
   "cell_type": "code",
   "execution_count": null,
   "metadata": {
    "collapsed": true
   },
   "outputs": [],
   "source": []
  },
  {
   "cell_type": "code",
   "execution_count": null,
   "metadata": {
    "collapsed": true
   },
   "outputs": [],
   "source": []
  },
  {
   "cell_type": "markdown",
   "metadata": {},
   "source": [
    "# Documents\n",
    "Data in MongoDB is represented (and stored) using JSON-style documents. In PyMongo we use dictionaries to represent documents. As an example, the following dictionary might be used to represent a blog post:"
   ]
  },
  {
   "cell_type": "raw",
   "metadata": {},
   "source": [
    "import datetime\n",
    "post = {\"author\": \"Mike\",\n",
    "         \"text\": \"My first blog post!\",\n",
    "         \"tags\": [\"mongodb\", \"python\", \"pymongo\"],\n",
    "         \"date\": datetime.datetime.utcnow()}"
   ]
  },
  {
   "cell_type": "markdown",
   "metadata": {},
   "source": [
    "# Inserting a Document\n",
    "To insert a document into a collection we can use the insert_one() method:"
   ]
  },
  {
   "cell_type": "raw",
   "metadata": {},
   "source": [
    "posts = db.posts\n",
    "post_id = posts.insert_one(post).inserted_id\n",
    "post_id\n",
    "ObjectId('...')"
   ]
  },
  {
   "cell_type": "markdown",
   "metadata": {},
   "source": [
    "When a document is inserted a special key, \"_id\", is automatically added if the document doesn’t already contain an \"_id\" key. The value of \"_id\" must be unique across the collection. insert_one() returns an instance of InsertOneResult. For more information on \"_id\", see the documentation on _id.\n",
    "\n",
    "After inserting the first document, the posts collection has actually been created on the server. We can verify this by listing all of the collections in our database:\n"
   ]
  },
  {
   "cell_type": "raw",
   "metadata": {},
   "source": [
    "db.collection_names(include_system_collections=False)\n",
    "[u'posts']"
   ]
  },
  {
   "cell_type": "markdown",
   "metadata": {},
   "source": [
    "# Bulk Inserts\n",
    "In order to make querying a little more interesting, let’s insert a few more documents. In addition to inserting a single document, we can also perform bulk insert operations, by passing a list as the first argument to insert_many(). This will insert each document in the list, sending only a single command to the server:\n"
   ]
  },
  {
   "cell_type": "raw",
   "metadata": {},
   "source": [
    "new_posts = [{\"author\": \"Mike\",\n",
    "              \"text\": \"Another post!\",\n",
    "              \"tags\": [\"bulk\", \"insert\"],\n",
    "              \"date\": datetime.datetime(2009, 11, 12, 11, 14)},\n",
    "             {\"author\": \"Eliot\",\n",
    "              \"title\": \"MongoDB is fun\",\n",
    "              \"text\": \"and pretty easy too!\",\n",
    "              \"date\": datetime.datetime(2009, 11, 10, 10, 45)}]\n",
    "result = posts.insert_many(new_posts)\n",
    "result.inserted_ids\n",
    "[ObjectId('...'), ObjectId('...')]"
   ]
  }
 ],
 "metadata": {
  "anaconda-cloud": {},
  "kernelspec": {
   "display_name": "Python [default]",
   "language": "python",
   "name": "python3"
  },
  "language_info": {
   "codemirror_mode": {
    "name": "ipython",
    "version": 3
   },
   "file_extension": ".py",
   "mimetype": "text/x-python",
   "name": "python",
   "nbconvert_exporter": "python",
   "pygments_lexer": "ipython3",
   "version": "3.5.2"
  }
 },
 "nbformat": 4,
 "nbformat_minor": 1
}
