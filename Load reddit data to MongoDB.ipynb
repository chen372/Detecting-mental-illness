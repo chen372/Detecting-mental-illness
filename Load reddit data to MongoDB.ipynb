{
 "cells": [
  {
   "cell_type": "code",
   "execution_count": 11,
   "metadata": {
    "collapsed": true
   },
   "outputs": [],
   "source": [
    "import pymongo\n",
    "from pymongo import MongoClient\n",
    "import json"
   ]
  },
  {
   "cell_type": "raw",
   "metadata": {},
   "source": [
    "# change mongoDB store dir using command line\n",
    "mongod --dbpath \"D:/Depression_project/db\""
   ]
  },
  {
   "cell_type": "code",
   "execution_count": 12,
   "metadata": {
    "collapsed": true
   },
   "outputs": [],
   "source": [
    "# connect MongDB to MongoClient and set up a database\n",
    "client = MongoClient('mongodb://localhost:27017/')\n",
    "db = client.reddit"
   ]
  },
  {
   "cell_type": "code",
   "execution_count": 13,
   "metadata": {
    "collapsed": true
   },
   "outputs": [],
   "source": [
    "# specify dir\n",
    "Dir = 'D:/Depression_project/data/reddit' # local or network fileshare"
   ]
  },
  {
   "cell_type": "code",
   "execution_count": 14,
   "metadata": {
    "collapsed": false
   },
   "outputs": [
    {
     "ename": "SyntaxError",
     "evalue": "invalid syntax (<ipython-input-14-2ae74909bcba>, line 8)",
     "output_type": "error",
     "traceback": [
      "\u001b[0;36m  File \u001b[0;32m\"<ipython-input-14-2ae74909bcba>\"\u001b[0;36m, line \u001b[0;32m8\u001b[0m\n\u001b[0;31m    db.'RS_'+yr+'-'+i.insert(item)\u001b[0m\n\u001b[0m           ^\u001b[0m\n\u001b[0;31mSyntaxError\u001b[0m\u001b[0;31m:\u001b[0m invalid syntax\n"
     ]
    }
   ],
   "source": [
    "\"\"\"\"\n",
    "# load files into the collection of a database\n",
    "yr = '2017'\n",
    "for i in ['01']:\n",
    "    path = Dir+'/'+'RS_'+yr+'-'+i    \n",
    "    with open(path) as json_file: \n",
    "        for line in json_file:\n",
    "            item = json.loads(line)  # convert a string representation of dict to a dict\n",
    "            db.createCollection('RS_'+yr+'-'+i, item)\n",
    "            #collection.insert(item)"
   ]
  },
  {
   "cell_type": "code",
   "execution_count": 20,
   "metadata": {
    "collapsed": false
   },
   "outputs": [
    {
     "name": "stderr",
     "output_type": "stream",
     "text": [
      "C:\\Users\\Bao\\Anaconda3\\lib\\site-packages\\ipykernel\\__main__.py:8: DeprecationWarning: insert is deprecated. Use insert_one or insert_many instead.\n"
     ]
    }
   ],
   "source": [
    "# load files into the collection of a database\n",
    "yr = '2017'\n",
    "mon = '12'\n",
    "path = Dir+'/'+'RS_'+yr+'-'+mon    \n",
    "with open(path) as json_file: \n",
    "    for line in json_file:\n",
    "        item = json.loads(line)  # convert a string representation of dict to a dict\n",
    "        db.Collection_2017_12.insert(item)"
   ]
  },
  {
   "cell_type": "code",
   "execution_count": 21,
   "metadata": {
    "collapsed": false
   },
   "outputs": [
    {
     "name": "stdout",
     "output_type": "stream",
     "text": [
      "10567492\n"
     ]
    }
   ],
   "source": [
    "# check\n",
    "#cursor = db.Collection_2017_02.find()\n",
    "print (db.Collection_2017_12.count())"
   ]
  },
  {
   "cell_type": "code",
   "execution_count": 22,
   "metadata": {
    "collapsed": false
   },
   "outputs": [
    {
     "data": {
      "text/plain": [
       "['Collection_2017_08',\n",
       " 'Collection_2017_05',\n",
       " 'Collection_2017_07',\n",
       " 'Collection_2017_06',\n",
       " 'Collection_2017_09',\n",
       " 'Collection_2017_11',\n",
       " 'Collection_2017_12',\n",
       " 'Collection_2017_04',\n",
       " 'Collection_2017_03',\n",
       " 'Collection_2017_10',\n",
       " 'Collection_2017_02',\n",
       " 'Collection_2017_01']"
      ]
     },
     "execution_count": 22,
     "metadata": {},
     "output_type": "execute_result"
    }
   ],
   "source": [
    "db.collection_names()"
   ]
  },
  {
   "cell_type": "code",
   "execution_count": 13,
   "metadata": {
    "collapsed": false
   },
   "outputs": [
    {
     "data": {
      "text/plain": [
       "{'_id': ObjectId('5ad79aa3e1b31a2b7cacd25f'),\n",
       " 'archived': False,\n",
       " 'author': 'sonicbh',\n",
       " 'author_flair_css_class': 'black-belt-confirmed',\n",
       " 'author_flair_text': 'Bruce Hoyer - Next Edge Academy',\n",
       " 'brand_safe': True,\n",
       " 'contest_mode': False,\n",
       " 'created_utc': 1483228800,\n",
       " 'distinguished': None,\n",
       " 'domain': 'smoothcomp.com',\n",
       " 'edited': False,\n",
       " 'gilded': 0,\n",
       " 'hidden': False,\n",
       " 'hide_score': False,\n",
       " 'id': '5lcgj8',\n",
       " 'is_self': False,\n",
       " 'link_flair_css_class': None,\n",
       " 'link_flair_text': None,\n",
       " 'locked': False,\n",
       " 'media': None,\n",
       " 'media_embed': {},\n",
       " 'num_comments': 0,\n",
       " 'over_18': False,\n",
       " 'permalink': '/r/bjj/comments/5lcgj8/south_dakota_event_next_weekend_come_compete/',\n",
       " 'post_hint': 'link',\n",
       " 'preview': {'enabled': False,\n",
       "  'images': [{'id': 'R-q6tQ2JlNgajUIhZ6UAzd-oF3CWIMBYXK2fZXLbLdo',\n",
       "    'resolutions': [{'height': 56,\n",
       "      'url': 'https://i.redditmedia.com/RDYuH2-9btvlKhGaLQkjRKmqPCaUerttSr7fS52LCBQ.jpg?fit=crop&amp;crop=faces%2Centropy&amp;arh=2&amp;w=108&amp;s=1b709c76313863cde81bfeccc9bee17a',\n",
       "      'width': 108},\n",
       "     {'height': 113,\n",
       "      'url': 'https://i.redditmedia.com/RDYuH2-9btvlKhGaLQkjRKmqPCaUerttSr7fS52LCBQ.jpg?fit=crop&amp;crop=faces%2Centropy&amp;arh=2&amp;w=216&amp;s=5ddfffd2d3bf7516257f720b38c554b0',\n",
       "      'width': 216},\n",
       "     {'height': 168,\n",
       "      'url': 'https://i.redditmedia.com/RDYuH2-9btvlKhGaLQkjRKmqPCaUerttSr7fS52LCBQ.jpg?fit=crop&amp;crop=faces%2Centropy&amp;arh=2&amp;w=320&amp;s=c4c78b977249b1a4087c61d6c165bab9',\n",
       "      'width': 320},\n",
       "     {'height': 336,\n",
       "      'url': 'https://i.redditmedia.com/RDYuH2-9btvlKhGaLQkjRKmqPCaUerttSr7fS52LCBQ.jpg?fit=crop&amp;crop=faces%2Centropy&amp;arh=2&amp;w=640&amp;s=553b451b1f3f7487aecd4a07c0b377cb',\n",
       "      'width': 640},\n",
       "     {'height': 504,\n",
       "      'url': 'https://i.redditmedia.com/RDYuH2-9btvlKhGaLQkjRKmqPCaUerttSr7fS52LCBQ.jpg?fit=crop&amp;crop=faces%2Centropy&amp;arh=2&amp;w=960&amp;s=8271833b796836fe93e33d73eec07e50',\n",
       "      'width': 960},\n",
       "     {'height': 567,\n",
       "      'url': 'https://i.redditmedia.com/RDYuH2-9btvlKhGaLQkjRKmqPCaUerttSr7fS52LCBQ.jpg?fit=crop&amp;crop=faces%2Centropy&amp;arh=2&amp;w=1080&amp;s=f4a2a08e37d3b563e8b6ee3ceb29cb3c',\n",
       "      'width': 1080}],\n",
       "    'source': {'height': 630,\n",
       "     'url': 'https://i.redditmedia.com/RDYuH2-9btvlKhGaLQkjRKmqPCaUerttSr7fS52LCBQ.jpg?s=bb4a2442903a18ea0b42d1fc0654b843',\n",
       "     'width': 1200},\n",
       "    'variants': {}}]},\n",
       " 'quarantine': False,\n",
       " 'retrieved_on': 1489388027,\n",
       " 'score': 3,\n",
       " 'secure_media': None,\n",
       " 'secure_media_embed': {},\n",
       " 'selftext': '',\n",
       " 'spoiler': False,\n",
       " 'stickied': False,\n",
       " 'subreddit': 'bjj',\n",
       " 'subreddit_id': 't5_2qn02',\n",
       " 'suggested_sort': None,\n",
       " 'thumbnail': 'https://b.thumbs.redditmedia.com/ZchXykM_bboD2RUWn8rzxyoyl8keqK4YAS9WLQoEfKg.jpg',\n",
       " 'title': 'South Dakota event next weekend come compete!',\n",
       " 'url': 'https://smoothcomp.com/event/128'}"
      ]
     },
     "execution_count": 13,
     "metadata": {},
     "output_type": "execute_result"
    }
   ],
   "source": [
    "db.collection.find_one()"
   ]
  },
  {
   "cell_type": "code",
   "execution_count": null,
   "metadata": {
    "collapsed": true
   },
   "outputs": [],
   "source": []
  },
  {
   "cell_type": "markdown",
   "metadata": {},
   "source": [
    "### Delete documents or drop a collection"
   ]
  },
  {
   "cell_type": "code",
   "execution_count": 6,
   "metadata": {
    "collapsed": false
   },
   "outputs": [
    {
     "data": {
      "text/plain": [
       "<pymongo.results.DeleteResult at 0x16d9c09fe48>"
      ]
     },
     "execution_count": 6,
     "metadata": {},
     "output_type": "execute_result"
    }
   ],
   "source": [
    "# delect all documents in a collection\n",
    "db.collection.delete_many({})"
   ]
  },
  {
   "cell_type": "code",
   "execution_count": 5,
   "metadata": {
    "collapsed": true
   },
   "outputs": [],
   "source": [
    "# drop a collection\n",
    "db.collection.drop()"
   ]
  },
  {
   "cell_type": "code",
   "execution_count": null,
   "metadata": {
    "collapsed": true
   },
   "outputs": [],
   "source": [
    "# rename a collection\n",
    "db[\"oldCollectionILLEGALName\"].renameCollection(\"someBetterName\")"
   ]
  }
 ],
 "metadata": {
  "anaconda-cloud": {},
  "kernelspec": {
   "display_name": "Python [default]",
   "language": "python",
   "name": "python3"
  },
  "language_info": {
   "codemirror_mode": {
    "name": "ipython",
    "version": 3
   },
   "file_extension": ".py",
   "mimetype": "text/x-python",
   "name": "python",
   "nbconvert_exporter": "python",
   "pygments_lexer": "ipython3",
   "version": "3.5.2"
  }
 },
 "nbformat": 4,
 "nbformat_minor": 1
}
