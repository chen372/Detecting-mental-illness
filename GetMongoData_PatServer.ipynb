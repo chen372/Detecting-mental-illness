{
 "cells": [
  {
   "cell_type": "code",
   "execution_count": 1,
   "metadata": {
    "collapsed": true
   },
   "outputs": [],
   "source": [
    "import ssl\n",
    "from pymongo import MongoClient\n",
    "import json"
   ]
  },
  {
   "cell_type": "code",
   "execution_count": 2,
   "metadata": {
    "collapsed": true
   },
   "outputs": [],
   "source": [
    "#%% Pull Sensitive User URI String from local file (avoids having username and PW in code)\n",
    "credDir = 'mongoURIHui.txt'       #contains user name and PW read data vice having sensitive info in code"
   ]
  },
  {
   "cell_type": "code",
   "execution_count": 3,
   "metadata": {
    "collapsed": true
   },
   "outputs": [],
   "source": [
    "#%% Now connect to the MongoDB reads one line from credentials file and uses\n",
    "# it to connect to Mongo DB\n",
    "with open(credDir,'r') as f:\n",
    "    uri = f.readlines()\n",
    "\n",
    "client = MongoClient(uri,ssl=True,ssl_cert_reqs=ssl.CERT_NONE)\n",
    "db=client.IUReddit"
   ]
  },
  {
   "cell_type": "code",
   "execution_count": 4,
   "metadata": {
    "collapsed": true
   },
   "outputs": [],
   "source": [
    "# specify save dir\n",
    "saveDir = 'D:/Depression_project/data/reddit' # local or network fileshare"
   ]
  },
  {
   "cell_type": "raw",
   "metadata": {},
   "source": [
    "Depression related subreddits\n",
    "\n",
    "mentalhealth 46,181\n",
    "depression 338,697\n",
    "depression_help 12,722\n",
    "bipolar 38,120\n",
    "BipolarReddit 21,565\n",
    "ADHD 153,129\n",
    "Anxiety 160,911\n",
    "Schizophrenia 10,975\n",
    "SuicideWatch 83,333\n",
    "selfharm 12,486\n",
    "Mentalillness 2,754\n",
    "traumatoolbox 1,715"
   ]
  },
  {
   "cell_type": "code",
   "execution_count": 37,
   "metadata": {
    "collapsed": true
   },
   "outputs": [],
   "source": [
    "#%% Global variables for saving, opening and naming\n",
    "srList = ['mentalhealth']\n",
    "strA = \"AllPosts\"\n",
    "strB = \"AllReddit\"\n",
    "strC = \"Authors\"\n",
    "strD = \"List\"\n",
    "strE = \"Set\""
   ]
  },
  {
   "cell_type": "code",
   "execution_count": 39,
   "metadata": {
    "collapsed": false
   },
   "outputs": [],
   "source": [
    "#%% local functions\n",
    "def save_json(fpath,var):\n",
    "    \"\"\"function to save a variable to json\n",
    "    assumes variable data is compatible with python json methods\"\"\"\n",
    "    with open(fpath,'w') as f:\n",
    "        json.dump(var,f)  \n",
    "\n",
    "def getMongoAuthSet(collection,srList):\n",
    "    \"\"\"\n",
    "    Function to return an author set for a given collection object and list of subreddits\n",
    "    assumes that the collection object is a a valid mongo collection object.\n",
    "    Returns a list containing a list of authors and posts for that subreddit\n",
    "    \"\"\"    \n",
    "    srauths = []\n",
    "    srPosts = []\n",
    "    count = 0\n",
    "    postcount = 0\n",
    "    for subreddit in srList:\n",
    "        print (\"Searching subreddit: \", subreddit)\n",
    "        for doc in collection.find({\"subreddit\":subreddit},no_cursor_timeout=False):\n",
    "            x = doc[u'author']\n",
    "            postcount += 1\n",
    "            srPosts.append(doc)\n",
    "            if x not in srauths:\n",
    "                srauths.append(x)\n",
    "                count +=1\n",
    "    print (\"Total posts found: \",postcount)\n",
    "    print (\"Total authors found: \", count,\"\\n\")\n",
    "    return [srauths, srPosts]"
   ]
  },
  {
   "cell_type": "code",
   "execution_count": 14,
   "metadata": {
    "collapsed": true
   },
   "outputs": [],
   "source": [
    "#%% Now view collection names and get collection objects\n",
    "names =  db.collection_names()  #get names of collections\n",
    "yr = '2015'\n",
    "names_yr = [x for x in names if yr in x]   #only pull collections from specified yr"
   ]
  },
  {
   "cell_type": "code",
   "execution_count": 31,
   "metadata": {
    "collapsed": false
   },
   "outputs": [
    {
     "data": {
      "text/plain": [
       "['RC_2015-11',\n",
       " 'RC_2015-02',\n",
       " 'RC_2015-10',\n",
       " 'RC_2015-05',\n",
       " 'RC_2015-08',\n",
       " 'RC_2015-01',\n",
       " 'RC_2015-04',\n",
       " 'RC_2015-09',\n",
       " 'RC_2015-12',\n",
       " 'RC_2015-06',\n",
       " 'RC_2015-07',\n",
       " 'RC_2015-03']"
      ]
     },
     "execution_count": 31,
     "metadata": {},
     "output_type": "execute_result"
    }
   ],
   "source": [
    "names_yr"
   ]
  },
  {
   "cell_type": "code",
   "execution_count": null,
   "metadata": {
    "collapsed": true
   },
   "outputs": [],
   "source": [
    "#%% Get list of authors from reddit posts\n",
    "srAuths=[]                          # list of subreddit Authors\n",
    "srPosts = []                        # container for subreddit posts\n",
    "count = 0\n",
    "postcount = 0\n",
    "for c_name in names_yr:\n",
    "    coll=db[c_name]             #returns a collection object\n",
    "    print (\"Current Collection: \",c_name)\n",
    "    srauths,srposts = getMongoAuthSet(coll,srList)\n",
    "    for auth in srauths:\n",
    "        srAuths.append(auth)\n",
    "    for item in srposts:\n",
    "        srPosts.append(item)\n",
    "srAuths = list(set(srAuths))"
   ]
  },
  {
   "cell_type": "code",
   "execution_count": 38,
   "metadata": {
    "collapsed": false
   },
   "outputs": [
    {
     "name": "stdout",
     "output_type": "stream",
     "text": [
      "\n",
      " retrieval complete, saving data to json\n"
     ]
    }
   ],
   "source": [
    "#%% Save the files\n",
    "print ('\\n retrieval complete, saving data to json')\n",
    "save_json(saveDir+\"/\"+srList[0]+strC+strD+yr+\".json\",srAuths)\n",
    "for doc in srPosts:\n",
    "    doc.pop(u'_id',None)\n",
    "save_json(saveDir+\"/\"+srList[0]+strC+strB+strA+yr+\".json\",srPosts)"
   ]
  },
  {
   "cell_type": "markdown",
   "metadata": {},
   "source": [
    "# Collect random posts"
   ]
  },
  {
   "cell_type": "code",
   "execution_count": 5,
   "metadata": {
    "collapsed": false
   },
   "outputs": [],
   "source": [
    "# Get N random documents from the mycoll collection.\n",
    "def getRandomPost(N_int, yr_string):\n",
    "    posts = []\n",
    "    #%% Now view collection names and get collection objects\n",
    "    names =  db.collection_names()  #get names of collections\n",
    "    names_yr = [x for x in names if yr_string in x]   #only pull collections from specified yr   \n",
    "    for c_name in names_yr:\n",
    "        coll=db[c_name]             #returns a collection object\n",
    "        for doc in coll.aggregate([{ \"$sample\": { \"size\": N_int } }]):\n",
    "            posts.append(doc)\n",
    "    return posts"
   ]
  },
  {
   "cell_type": "code",
   "execution_count": 30,
   "metadata": {
    "collapsed": false
   },
   "outputs": [],
   "source": [
    "yr = '2017'\n",
    "posts = getRandomPost(10000, yr)"
   ]
  },
  {
   "cell_type": "code",
   "execution_count": 31,
   "metadata": {
    "collapsed": false
   },
   "outputs": [
    {
     "data": {
      "text/plain": [
       "120000"
      ]
     },
     "execution_count": 31,
     "metadata": {},
     "output_type": "execute_result"
    }
   ],
   "source": [
    "len(posts)"
   ]
  },
  {
   "cell_type": "code",
   "execution_count": 58,
   "metadata": {
    "collapsed": false
   },
   "outputs": [],
   "source": [
    "\"\"\"\"\"\n",
    "# text\n",
    "posts = []\n",
    "for doc in db['RC_2013-02'].aggregate([{ \"$sample\": { \"size\": 2 } }]):\n",
    "    posts.append(doc)"
   ]
  },
  {
   "cell_type": "code",
   "execution_count": 32,
   "metadata": {
    "collapsed": false
   },
   "outputs": [
    {
     "name": "stdout",
     "output_type": "stream",
     "text": [
      "\n",
      " retrieval complete, saving data to json\n"
     ]
    }
   ],
   "source": [
    "def save_json(fpath,var):\n",
    "    \"\"\"function to save a variable to json\n",
    "    assumes variable data is compatible with python json methods\"\"\"\n",
    "    with open(fpath,'w') as f:\n",
    "        json.dump(var,f)  \n",
    "\n",
    "#%% Save the files\n",
    "for doc in posts:\n",
    "    doc.pop(u'_id',None)\n",
    "save_json(saveDir+\"/randomPosts\"+yr+\".json\", posts)\n",
    "print ('\\n retrieval complete, saving data to json')"
   ]
  },
  {
   "cell_type": "code",
   "execution_count": null,
   "metadata": {
    "collapsed": true
   },
   "outputs": [],
   "source": []
  }
 ],
 "metadata": {
  "anaconda-cloud": {},
  "kernelspec": {
   "display_name": "Python [default]",
   "language": "python",
   "name": "python3"
  },
  "language_info": {
   "codemirror_mode": {
    "name": "ipython",
    "version": 3
   },
   "file_extension": ".py",
   "mimetype": "text/x-python",
   "name": "python",
   "nbconvert_exporter": "python",
   "pygments_lexer": "ipython3",
   "version": "3.5.2"
  }
 },
 "nbformat": 4,
 "nbformat_minor": 1
}
