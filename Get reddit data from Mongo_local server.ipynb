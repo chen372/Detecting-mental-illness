{
 "cells": [
  {
   "cell_type": "code",
   "execution_count": 1,
   "metadata": {
    "collapsed": true
   },
   "outputs": [],
   "source": [
    "from pymongo import MongoClient\n",
    "import json"
   ]
  },
  {
   "cell_type": "raw",
   "metadata": {},
   "source": [
    "# change mongoDB store dir using command line\n",
    "mongod --dbpath \"D:/Depression_project/db_reddit\""
   ]
  },
  {
   "cell_type": "code",
   "execution_count": 2,
   "metadata": {
    "collapsed": false
   },
   "outputs": [],
   "source": [
    "# connect MongDB to MongoClient and set up a database\n",
    "client = MongoClient('mongodb://localhost:27017/')\n",
    "db = client.reddit"
   ]
  },
  {
   "cell_type": "code",
   "execution_count": 3,
   "metadata": {
    "collapsed": true
   },
   "outputs": [],
   "source": [
    "# specify dir\n",
    "Dir = 'D:/Depression_project/data/reddit' # local or network fileshare"
   ]
  },
  {
   "cell_type": "code",
   "execution_count": 10,
   "metadata": {
    "collapsed": true
   },
   "outputs": [],
   "source": [
    "def getSubrPost(collection, srList):    \n",
    "    srPosts = []\n",
    "    postcount = 0\n",
    "    for subr in srList:\n",
    "        print (\"Searching subreddit: \", subr)\n",
    "        for doc in collection.find({'subreddit': subr}, no_cursor_timeout = False):\n",
    "            srPosts.append(doc) \n",
    "            postcount += 1\n",
    "        print (\"Total posts found: \", postcount)\n",
    "    return srPosts"
   ]
  },
  {
   "cell_type": "code",
   "execution_count": 5,
   "metadata": {
    "collapsed": true
   },
   "outputs": [],
   "source": [
    "srList = ['mentalhealth','depression','depression_help','bipolar','BipolarReddit','ADHD','Anxiety', \\\n",
    "            'schizophrenia','SuicideWatch','selfharm','Mentalillness','traumatoolbox']"
   ]
  },
  {
   "cell_type": "code",
   "execution_count": 13,
   "metadata": {
    "collapsed": true
   },
   "outputs": [],
   "source": [
    "srList = ['schizophrenia', 'Anxiety']"
   ]
  },
  {
   "cell_type": "code",
   "execution_count": 24,
   "metadata": {
    "collapsed": false
   },
   "outputs": [
    {
     "data": {
      "text/plain": [
       "['Collection_2017_08',\n",
       " 'Collection_2017_05',\n",
       " 'Collection_2017_07',\n",
       " 'Collection_2017_06',\n",
       " 'Collection_2017_09',\n",
       " 'Collection_2017_11',\n",
       " 'Collection_2017_12',\n",
       " 'Collection_2017_04',\n",
       " 'Collection_2017_03',\n",
       " 'Collection_2017_10',\n",
       " 'Collection_2017_02',\n",
       " 'Collection_2017_01']"
      ]
     },
     "execution_count": 24,
     "metadata": {},
     "output_type": "execute_result"
    }
   ],
   "source": [
    "db.collection_names()"
   ]
  },
  {
   "cell_type": "code",
   "execution_count": null,
   "metadata": {
    "collapsed": true
   },
   "outputs": [],
   "source": [
    "yr = '2017'\n",
    "month = '12'\n",
    "posts = getSubrPost(db.Collection_2017_12, srList)"
   ]
  },
  {
   "cell_type": "code",
   "execution_count": 12,
   "metadata": {
    "collapsed": false
   },
   "outputs": [
    {
     "name": "stdout",
     "output_type": "stream",
     "text": [
      "\n",
      " retrieval complete, saving data to json\n"
     ]
    }
   ],
   "source": [
    "#%% Save the files\n",
    "posts_new = []\n",
    "for doc in posts:   \n",
    "    posts_new.append({k: doc[k] for k in ('author', 'created_utc', 'id', 'subreddit', \\\n",
    "                                          'title', 'selftext', 'num_comments', 'score')})\n",
    "    \n",
    "with open(Dir+\"/MentalSubmissions\"+yr+\"_\"+month+\".json\", 'w') as outfile:\n",
    "    json.dump(posts_new, outfile)    \n",
    "    \n",
    "print ('\\n retrieval complete, saving data to json')"
   ]
  },
  {
   "cell_type": "code",
   "execution_count": null,
   "metadata": {
    "collapsed": true
   },
   "outputs": [],
   "source": []
  },
  {
   "cell_type": "code",
   "execution_count": null,
   "metadata": {
    "collapsed": true
   },
   "outputs": [],
   "source": []
  }
 ],
 "metadata": {
  "anaconda-cloud": {},
  "kernelspec": {
   "display_name": "Python [default]",
   "language": "python",
   "name": "python3"
  },
  "language_info": {
   "codemirror_mode": {
    "name": "ipython",
    "version": 3
   },
   "file_extension": ".py",
   "mimetype": "text/x-python",
   "name": "python",
   "nbconvert_exporter": "python",
   "pygments_lexer": "ipython3",
   "version": "3.5.2"
  }
 },
 "nbformat": 4,
 "nbformat_minor": 1
}
